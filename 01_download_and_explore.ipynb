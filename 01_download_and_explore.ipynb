{
 "cells": [
  {
   "cell_type": "markdown",
   "id": "bd8f7b77",
   "metadata": {},
   "source": [
    "# 🔧 Check Runtime Environment\n",
    "Detects whether the notebook is running in Google Colab or locally, and sets the `base_dir` accordingly for file access.\n"
   ]
  },
  {
   "cell_type": "code",
   "execution_count": 1,
   "id": "e08ca4a6",
   "metadata": {},
   "outputs": [
    {
     "name": "stdout",
     "output_type": "stream",
     "text": [
      "🖥️ Running locally, base_dir set to: \n"
     ]
    }
   ],
   "source": [
    "import os\n",
    "import sys\n",
    "\n",
    "# Check if running in Google Colab\n",
    "if 'google.colab' in sys.modules:\n",
    "    from google.colab import drive\n",
    "    drive.mount('/content/drive')\n",
    "    base_dir = \"/content/drive/MyDrive/WildFire_RemoteSensing_workshop/WildFire_RemoteSensing/\"\n",
    "    print(f\"📂 Running in Colab, base_dir set to: {base_dir}\")\n",
    "else:\n",
    "    base_dir = \"\"  # Adjust as needed\n",
    "    print(f\"🖥️ Running locally, base_dir set to: {base_dir}\")\n"
   ]
  },
  {
   "cell_type": "markdown",
   "id": "6fqnjmpiF0AB",
   "metadata": {
    "id": "6fqnjmpiF0AB"
   },
   "source": [
    "#Machine Learning and Remote Sensing for Wildfire and Spatial Risk Management\n",
    "\n",
    "## Data aquisiton\n",
    "\n"
   ]
  },
  {
   "cell_type": "code",
   "execution_count": null,
   "id": "d718584b",
   "metadata": {
    "colab": {
     "base_uri": "https://localhost:8080/"
    },
    "id": "d718584b",
    "outputId": "3f07c20e-c9fc-44b7-dbe1-a6249f440767"
   },
   "outputs": [],
   "source": [
    "#skip if allready installed\n",
    "!pip install openeo xarray netCDF4 h5netcdf geopandas matplotlib\n",
    " "
   ]
  },
  {
   "cell_type": "code",
   "execution_count": null,
   "id": "afba886f",
   "metadata": {
    "colab": {
     "base_uri": "https://localhost:8080/",
     "height": 360
    },
    "executionInfo": {
     "elapsed": 273,
     "status": "error",
     "timestamp": 1749824032867,
     "user": {
      "displayName": "Znanost Ljiljana",
      "userId": "06228154570741199031"
     },
     "user_tz": -120
    },
    "id": "afba886f",
    "outputId": "2f95c4c3-aa00-488e-d878-8ebb6b3d6d15"
   },
   "outputs": [],
   "source": [
    "import openeo\n",
    "import xarray\n",
    "import matplotlib.pyplot as plt"
   ]
  },
  {
   "cell_type": "markdown",
   "id": "aSbXtjakHYqP",
   "metadata": {
    "id": "aSbXtjakHYqP"
   },
   "source": [
    "#OpenEO\n"
   ]
  },
  {
   "cell_type": "code",
   "execution_count": null,
   "id": "826d0109",
   "metadata": {
    "colab": {
     "base_uri": "https://localhost:8080/"
    },
    "executionInfo": {
     "elapsed": 2665,
     "status": "ok",
     "timestamp": 1749798478533,
     "user": {
      "displayName": "Znanost Ljiljana",
      "userId": "06228154570741199031"
     },
     "user_tz": -120
    },
    "id": "826d0109",
    "outputId": "faed4e86-0a93-4d49-f0bc-bbde34483d22"
   },
   "outputs": [],
   "source": [
    "connection = openeo.connect(url=\"openeo.dataspace.copernicus.eu\")\n",
    "connection\n",
    "connection.authenticate_oidc()"
   ]
  },
  {
   "cell_type": "code",
   "execution_count": null,
   "id": "07b15efc",
   "metadata": {
    "colab": {
     "background_save": true
    },
    "id": "07b15efc"
   },
   "outputs": [],
   "source": [
    "s2_cube = connection.load_collection(\n",
    "    \"SENTINEL2_L2A\",\n",
    "    temporal_extent=(\"2024-07-15\", \"2024-08-15\"),\n",
    "    spatial_extent={\n",
    "        \"west\": 15.74,\n",
    "        \"south\": 43.7,\n",
    "        \"east\": 16.00,\n",
    "        \"north\": 43.93,\n",
    "        \"crs\": \"EPSG:4326\",\n",
    "    },\n",
    "    #bands=[\"B04\", \"B03\", \"B02\", \"SCL\"],\n",
    "    bands=['B01', 'B02', 'B03', 'B04', 'B05', 'B06', 'B07', 'B08', 'B8A', 'B09', 'B11', 'B12'],\n",
    "    max_cloud_cover=50,\n",
    ")\n",
    "s2_cube.download(base_dir+\"fire_krka.nc\")"
   ]
  },
  {
   "cell_type": "code",
   "execution_count": null,
   "id": "1hmZDjsmEi8o",
   "metadata": {
    "colab": {
     "base_uri": "https://localhost:8080/",
     "height": 514
    },
    "executionInfo": {
     "elapsed": 15,
     "status": "error",
     "timestamp": 1749798702833,
     "user": {
      "displayName": "Znanost Ljiljana",
      "userId": "06228154570741199031"
     },
     "user_tz": -120
    },
    "id": "1hmZDjsmEi8o",
    "outputId": "ba953973-6069-4ce2-fad8-c6612580d4d1"
   },
   "outputs": [],
   "source": [
    "ds = xarray.load_dataset(base_dir+\"fire_krka.nc\")\n",
    "# Convert xarray DataSet to a (bands, t, x, y) DataArray\n",
    "data = ds[[\"B04\", \"B03\", \"B02\"]].to_array(dim=\"bands\")\n",
    "data"
   ]
  },
  {
   "cell_type": "code",
   "execution_count": null,
   "id": "a54160a1",
   "metadata": {},
   "outputs": [],
   "source": [
    "#plot one scene. change t index to change time of the scene\n",
    "data[{\"t\": 0}].plot.imshow(vmin=0, vmax=2000)\n"
   ]
  },
  {
   "cell_type": "markdown",
   "id": "9519134e",
   "metadata": {},
   "source": [
    "Compare images from 3 timestamps - before, during and after fire\n",
    "Burned area is visible on the third image"
   ]
  },
  {
   "cell_type": "code",
   "execution_count": null,
   "id": "9aed9434",
   "metadata": {
    "id": "9aed9434"
   },
   "outputs": [],
   "source": [
    "\n",
    "fig, axes = plt.subplots(ncols=3, figsize=(15, 3), dpi=90, sharey=True)\n",
    "data[{\"t\": 0}].plot.imshow(vmin=0, vmax=2000, ax=axes[0])\n",
    "data[{\"t\": 2}].plot.imshow(vmin=0, vmax=2000, ax=axes[1]);\n",
    "data[{\"t\": 3}].plot.imshow(vmin=0, vmax=2000, ax=axes[2]);"
   ]
  },
  {
   "cell_type": "markdown",
   "id": "ad3f1665",
   "metadata": {
    "id": "ad3f1665"
   },
   "source": [
    "<h2> Explore netCDF</h2>"
   ]
  },
  {
   "cell_type": "code",
   "execution_count": null,
   "id": "f76f635d",
   "metadata": {
    "id": "f76f635d"
   },
   "outputs": [],
   "source": [
    "import netCDF4\n",
    "\n",
    "# Open the NetCDF file\n",
    "fp = base_dir+'fire_krka.nc'\n",
    "nc = netCDF4.Dataset(fp)\n",
    "\n",
    "# List all variables\n",
    "print(nc.variables.keys())\n",
    "\n",
    "# List all dimensions\n",
    "print(nc.dimensions.keys())\n",
    "\n",
    "# Access a variable (e.g., 'Temp')\n",
    "temp = nc.variables['t'][:]\n",
    "print(temp)\n",
    "# Print CRS\n",
    "print(nc.variables['crs'])\n",
    "# Close the file when done\n",
    "nc.close()"
   ]
  },
  {
   "cell_type": "markdown",
   "id": "ba0a5a67",
   "metadata": {},
   "source": [
    "<h2> Load Burned areas from effis</h2>\n",
    "\n",
    "Shapefile obtained from : https://forest-fire.emergency.copernicus.eu/applications/data-and-services"
   ]
  },
  {
   "cell_type": "code",
   "execution_count": null,
   "id": "3452ef6f",
   "metadata": {},
   "outputs": [],
   "source": [
    "import geopandas as gpd\n",
    "import pandas as pd\n",
    "# Load shapefile\n",
    "gdf1 = gpd.read_file(\"effis_layer/modis.ba.poly.shp\")\n",
    "\n",
    "import pandas as pd\n",
    "#df = pd.DataFrame(gdf.drop(columns='geometry'))\n",
    "# Convert date column to datetime\n",
    "gdf1['date'] = pd.to_datetime(gdf1['FIREDATE'],format='mixed')\n",
    "\n",
    "# Define filter criteria\n",
    "countries_to_keep = ['HR' ]\n",
    "start_date = '2024-01-01'\n",
    "end_date = '2024-12-31'\n",
    "\n",
    "# Filter by country and date range\n",
    "gdf = gdf1[\n",
    "    (gdf1['COUNTRY'].isin(countries_to_keep)) &\n",
    "    (gdf1['date'] >= start_date) &\n",
    "    (gdf1['date'] <= end_date)\n",
    "]\n",
    " "
   ]
  },
  {
   "cell_type": "markdown",
   "id": "9ee29aff",
   "metadata": {},
   "source": [
    "Create bounding boxes around every fire"
   ]
  },
  {
   "cell_type": "code",
   "execution_count": null,
   "id": "a41c0f62",
   "metadata": {},
   "outputs": [],
   "source": [
    "# Extract bounding box coordinates (west, south, east, north) for each geometry\n",
    "gdf['bbox'] = gdf.geometry.apply(lambda geom: geom.bounds)  # bounds = (minx, miny, maxx, maxy)\n",
    "\n",
    "# Split bounds tuple into separate columns\n",
    "gdf[['west', 'south', 'east', 'north']] = gdf['bbox'].apply(pd.Series)\n",
    " \n",
    "\n",
    "# Example: 10 days before and 10 days after fire date\n",
    "gdf['start_date_before'] = gdf['date'] - pd.Timedelta(days=10)\n",
    "gdf['end_date_before'] = gdf['date'] - pd.Timedelta(days=1)\n",
    "\n",
    "gdf['start_date_after'] = gdf['date'] + pd.Timedelta(days=2)\n",
    "gdf['end_date_after'] = gdf['date'] + pd.Timedelta(days=10)\n",
    " "
   ]
  },
  {
   "cell_type": "markdown",
   "id": "db521053",
   "metadata": {},
   "source": []
  },
  {
   "cell_type": "code",
   "execution_count": null,
   "id": "2c3faaa3",
   "metadata": {},
   "outputs": [],
   "source": [
    "import openeo\n",
    "import xarray\n",
    "import matplotlib.pyplot as plt\n",
    "connection = openeo.connect(url=\"openeo.dataspace.copernicus.eu\")\n",
    "connection\n",
    "#create free account on dataspace.copernicus.eu\n",
    "connection.authenticate_oidc()"
   ]
  },
  {
   "cell_type": "markdown",
   "id": "70928176",
   "metadata": {},
   "source": [
    "Downlaod EO data "
   ]
  },
  {
   "cell_type": "code",
   "execution_count": null,
   "id": "74c5e1ee",
   "metadata": {},
   "outputs": [],
   "source": [
    "'''\n",
    "from openeo.rest.connection import OpenEoApiError\n",
    "import os\n",
    "import time\n",
    "all_bands = [\n",
    " 'B01', 'B02', 'B03', 'B04', 'B05', 'B06', 'B07', 'B08', 'B8A', 'B09', 'B11', 'B12', 'WVP', 'AOT', 'SCL', 'sunAzimuthAngles', 'sunZenithAngles', 'viewAzimuthMean', 'viewZenithMean'\n",
    "]\n",
    "for idx, row in gdf.iterrows():\n",
    "    id = row['id']\n",
    "    file_before = f\"fire_{id}_before.nc\"\n",
    "    file_after = f\"fire_{id}_after.nc\"\n",
    "    spatial_extent = {\n",
    "        \"west\": row['west'],\n",
    "        \"south\": row['south'],\n",
    "        \"east\": row['east'],\n",
    "        \"north\": row['north'],\n",
    "        \"crs\": \"EPSG:4326\",\n",
    "    }\n",
    "    if os.path.exists(file_after):\n",
    "        print(f\"File {file_after} already exists, skipping download.\")\n",
    "    else:\n",
    "    # Define date ranges as strings\n",
    "        print(f\"downloading {file_before} .\" )\n",
    "        before_start = row['start_date_before'].strftime('%Y-%m-%d')\n",
    "        before_end = row['end_date_before'].strftime('%Y-%m-%d')\n",
    "        after_start = row['start_date_after'].strftime('%Y-%m-%d')\n",
    "        after_end = row['end_date_after'].strftime('%Y-%m-%d')\n",
    "        \n",
    "        # Download before fire\n",
    "        try:\n",
    "            s2_cube_before = connection.load_collection(\n",
    "                \"SENTINEL2_L2A\",\n",
    "                temporal_extent=(before_start, before_end),\n",
    "                spatial_extent=spatial_extent,\n",
    "                bands=all_bands,\n",
    "                \n",
    "            ).reduce_dimension(dimension=\"t\", reducer=\"last\")\n",
    "            s2_cube_before.download(file_before)\n",
    "            print(f\"  {file_before} . downloaded , sleeping\" )\n",
    "            time.sleep(5)\n",
    "        except OpenEoApiError as e:\n",
    "            if \"NoDataAvailable\" in str(e):\n",
    "                print(f\"No data available for fire_{id}_before.nc, skipping download.\")\n",
    "            else:\n",
    "                raise  # re-raise other errors\n",
    "        \n",
    "        # Download after fire\n",
    "\n",
    "        print(f\"downloading {file_after}  \" )\n",
    "        try:\n",
    "            s2_cube_after = connection.load_collection(\n",
    "                \"SENTINEL2_L2A\",\n",
    "                temporal_extent=(after_start, after_end),\n",
    "                spatial_extent=spatial_extent,\n",
    "                bands=all_bands,\n",
    "               \n",
    "            ).reduce_dimension(dimension=\"t\", reducer=\"first\")\n",
    "            s2_cube_after.download(file_after)\n",
    "            print(f\"  {file_before} . downloaded , sleeping\" )\n",
    "\n",
    "            time.sleep(5)\n",
    "        except OpenEoApiError as e:\n",
    "            if \"NoDataAvailable\" in str(e):\n",
    "                print(f\"No data available for fire_{id}_after.nc, skipping download.\")\n",
    "            else:\n",
    "                raise\n",
    "'''"
   ]
  }
 ],
 "metadata": {
  "colab": {
   "provenance": []
  },
  "kernelspec": {
   "display_name": ".venv",
   "language": "python",
   "name": "python3"
  },
  "language_info": {
   "codemirror_mode": {
    "name": "ipython",
    "version": 3
   },
   "file_extension": ".py",
   "mimetype": "text/x-python",
   "name": "python",
   "nbconvert_exporter": "python",
   "pygments_lexer": "ipython3",
   "version": "3.12.4"
  }
 },
 "nbformat": 4,
 "nbformat_minor": 5
}
