{
 "cells": [
  {
   "cell_type": "markdown",
   "id": "d9b1f723",
   "metadata": {},
   "source": [
    "### PREREQUISITES - Set base_dir"
   ]
  },
  {
   "cell_type": "code",
   "execution_count": null,
   "id": "e59db02d",
   "metadata": {},
   "outputs": [],
   "source": [
    "import os\n",
    "import sys\n",
    "\n",
    "# Check if running in Google Colab\n",
    "if 'google.colab' in sys.modules:\n",
    "    from google.colab import drive\n",
    "    drive.mount('/content/drive')\n",
    "    base_dir = \"/content/drive/MyDrive/WildFire_RemoteSensing_workshop/WildFire_RemoteSensing/\"\n",
    "    print(f\"📂 Running in Colab, base_dir set to: {base_dir}\")\n",
    "else:\n",
    "    base_dir = \"\"  # Adjust as needed\n",
    "    print(f\"🖥️ Running locally, base_dir set to: {base_dir}\")\n"
   ]
  },
  {
   "cell_type": "markdown",
   "id": "a66de791",
   "metadata": {},
   "source": [
    "# Install Dependencies\n",
    "Install required Python packages (`tqdm`, `rasterio`) if not already available in the current environment."
   ]
  },
  {
   "cell_type": "code",
   "execution_count": null,
   "id": "8e5eb05a",
   "metadata": {},
   "outputs": [],
   "source": [
    "!pip install tqdm rasterio "
   ]
  },
  {
   "cell_type": "markdown",
   "id": "771d0b9e",
   "metadata": {},
   "source": [
    "# Define Data Directory\n",
    "Specify the directory containing the NetCDF (`.nc`) files that will be used to build the dataset.\n"
   ]
  },
  {
   "cell_type": "code",
   "execution_count": null,
   "id": "bb6ed8be",
   "metadata": {},
   "outputs": [],
   "source": [
    "data_dir = base_dir+\"datacubes_2024\""
   ]
  },
  {
   "cell_type": "markdown",
   "id": "1413a95d",
   "metadata": {},
   "source": [
    "# Import Libraries & Define Functions\n",
    "\n",
    "- Import all necessary libraries.\n",
    "- Define the following steps:\n",
    "  - `get_nc_files()`: finds all `.nc` files in the data directory.\n",
    "  - `extract_pixels_and_labels()`: extracts pixel-level features and assigns labels (0 = \"before fire\", 1 = \"after fire\").\n",
    "  - `build_dataset()`: loops through files, extracts features, and stacks them into `X` and `y`.\n",
    "  - `save_dataset_to_csv()`: saves the resulting dataset as a CSV for reuse.\n",
    "- The process supports Sentinel-2 bands and removes invalid or missing data entries.\n"
   ]
  },
  {
   "cell_type": "code",
   "execution_count": null,
   "id": "2d9785bc",
   "metadata": {},
   "outputs": [],
   "source": [
    "import os\n",
    "import glob\n",
    "import xarray as xr\n",
    "import numpy as np\n",
    "import pandas as pd\n",
    "from sklearn.model_selection import train_test_split\n",
    "from sklearn.ensemble import RandomForestClassifier\n",
    "from sklearn.svm import SVC\n",
    "from sklearn.linear_model import LogisticRegression\n",
    "from sklearn.preprocessing import StandardScaler\n",
    "from sklearn.metrics import classification_report\n",
    "from tqdm import tqdm\n",
    "import pandas as pd"
   ]
  },
  {
   "cell_type": "markdown",
   "id": "72cbcb3d",
   "metadata": {},
   "source": [
    "Set a maximum number of pixels per file"
   ]
  },
  {
   "cell_type": "code",
   "execution_count": null,
   "id": "25679754",
   "metadata": {},
   "outputs": [],
   "source": [
    "max_pixels_per_file = 1000"
   ]
  },
  {
   "cell_type": "markdown",
   "id": "fc8a76a5",
   "metadata": {},
   "source": [
    "Define aforementioned functions"
   ]
  },
  {
   "cell_type": "code",
   "execution_count": null,
   "id": "76952a8f",
   "metadata": {},
   "outputs": [],
   "source": [
    "def get_nc_files(directory):\n",
    "    return glob.glob(os.path.join(directory, \"*.nc\"))\n",
    "\n",
    "def extract_pixels_and_labels(file_path, label, max_pixels):\n",
    "    ds = xr.open_dataset(file_path)\n",
    "\n",
    "    desired_bands = [\n",
    "        'B01', 'B02', 'B03', 'B04', 'B05', 'B06',\n",
    "        'B07', 'B08', 'B8A', 'B09', 'B11', 'B12'\n",
    "    ]\n",
    "\n",
    "    available_bands = [\n",
    "        band for band in desired_bands\n",
    "        if band in ds.data_vars and np.issubdtype(ds[band].dtype, np.number)\n",
    "    ]\n",
    "\n",
    "    if not available_bands:\n",
    "        print(f\"⚠️ No valid bands found in {file_path}, skipping.\")\n",
    "        return np.empty((0, len(desired_bands))), np.array([])\n",
    "\n",
    "    ds = ds[available_bands]\n",
    "\n",
    "    if \"t\" in ds.dims:\n",
    "        ds = ds.isel(t=0)\n",
    "\n",
    "    da = ds.to_array().transpose(\"y\", \"x\", \"variable\")\n",
    "\n",
    "    pixels = da.values.reshape(-1, da.shape[2]).astype(np.float32, copy=False)\n",
    "    pixels = pixels[~np.isnan(pixels).any(axis=1)]\n",
    "\n",
    "    np.random.shuffle(pixels)\n",
    "    return pixels[:max_pixels], np.full(min(len(pixels), max_pixels), label)\n",
    "\n",
    "def build_dataset(files, max_pixels):\n",
    "    X, y = [], []\n",
    "    for f in tqdm(files, desc=\"Processing .nc files\"):\n",
    "        label = 0 if \"before\" in f.lower() else 1\n",
    "        pixels, labels = extract_pixels_and_labels(f, label, max_pixels)\n",
    "        X.append(pixels)\n",
    "        y.append(labels)\n",
    "    return np.vstack(X), np.hstack(y)\n",
    "\n",
    "def save_dataset_to_csv(X, y, output_path=base_dir+\"DATA/pixel_dataset.csv\"):\n",
    "    df = pd.DataFrame(X, columns=[f\"band_{i+1}\" for i in range(X.shape[1])])\n",
    "    df[\"label\"] = y\n",
    "    df.to_csv(output_path, index=False)\n",
    "    print(f\"✅ Dataset saved to: {output_path}\")"
   ]
  },
  {
   "cell_type": "markdown",
   "id": "279eb004",
   "metadata": {},
   "source": [
    "Use the functions to build a dataset and save it to a `.csv`"
   ]
  },
  {
   "cell_type": "code",
   "execution_count": null,
   "id": "ad790fcf",
   "metadata": {},
   "outputs": [],
   "source": [
    "files = get_nc_files(data_dir)\n",
    "X, y = build_dataset(files, max_pixels_per_file)\n",
    "save_dataset_to_csv(X, y,)"
   ]
  },
  {
   "cell_type": "markdown",
   "id": "4396a676",
   "metadata": {},
   "source": [
    "# Read from file\n",
    "\n",
    "Load in your dataset and check that everything looks fine, then use the dataset for analysis."
   ]
  },
  {
   "cell_type": "code",
   "execution_count": null,
   "id": "564b5998",
   "metadata": {},
   "outputs": [],
   "source": [
    "import pandas as pd\n",
    "\n",
    "df=pd.read_csv(base_dir+'DATA/pixel_dataset.csv')\n",
    "df"
   ]
  },
  {
   "cell_type": "code",
   "execution_count": null,
   "id": "5e4066cb",
   "metadata": {},
   "outputs": [],
   "source": [
    "df.describe()"
   ]
  },
  {
   "cell_type": "markdown",
   "id": "682f17d7",
   "metadata": {},
   "source": [
    "## Band Scatter Plot (B1 vs B12)\n",
    "Visualize how two spectral bands (band_1 and band_12) vary across burn labels using a 2D scatter plot.\n",
    "\n",
    "Try changing the band numbers and see the corelation between bands values!"
   ]
  },
  {
   "cell_type": "code",
   "execution_count": null,
   "id": "0d2dc5a0",
   "metadata": {},
   "outputs": [],
   "source": [
    "from matplotlib import pyplot as plt\n",
    "import numpy as np\n",
    "import pandas as pd\n",
    "\n",
    "plt.scatter(df['band_1'],df['band_12'],alpha=0.5,c=df['label'])"
   ]
  },
  {
   "cell_type": "code",
   "execution_count": null,
   "id": "eb59eb24",
   "metadata": {},
   "outputs": [],
   "source": [
    "n_bands = 12\n",
    "fig, axs = plt.subplots(n_bands, n_bands, figsize=(20, 20))\n",
    "plt.subplots_adjust(hspace=0.3, wspace=0.3)"
   ]
  },
  {
   "cell_type": "markdown",
   "id": "328bff69",
   "metadata": {},
   "source": [
    "Add a custom colormap for visualization."
   ]
  },
  {
   "cell_type": "code",
   "execution_count": null,
   "id": "d43ea2a6",
   "metadata": {},
   "outputs": [],
   "source": [
    "cmap = plt.cm.colors.ListedColormap(['#1f77b4', '#ff7f0e'])  # Blue=unburned, Orange=burned"
   ]
  },
  {
   "cell_type": "markdown",
   "id": "bd870b50",
   "metadata": {},
   "source": [
    "Plot each band combination."
   ]
  },
  {
   "cell_type": "code",
   "execution_count": null,
   "id": "51660b67",
   "metadata": {},
   "outputs": [],
   "source": [
    "for i in range(n_bands):\n",
    "    for j in range(n_bands):\n",
    "        ax = axs[i, j]\n",
    "        \n",
    "        if i <= j:\n",
    "            ax.remove()\n",
    "            continue\n",
    "            \n",
    "        # Plot scatter points\n",
    "        scatter = ax.scatter(df['band_'+str(i+1)], df['band_'+str(j+1)], c=df['label'], cmap=cmap, \n",
    "                            alpha=0.6, s=10, edgecolors='none')\n",
    "        \n",
    "        # Axis labels\n",
    "        if i == n_bands-1:  # Bottom row\n",
    "            ax.set_xlabel(  'band_'+str(i+1))\n",
    "        if j == 0:  # Left column\n",
    "            ax.set_ylabel('band_'+str(j+1))\n",
    "            \n",
    "        ax.set_xticks([])\n",
    "        ax.set_yticks([])\n",
    "\n",
    "# Optional: Add colorbar\n",
    "# cbar = fig.colorbar(scatter, ax=axs, orientation='vertical', fraction=0.02)\n",
    "# cbar.set_ticks([0.25, 0.75])\n",
    "# cbar.set_ticklabels(['Unburned', 'Burned'])\n",
    "\n",
    "plt.suptitle('Band Relationship Scatter Matrix (Burned vs Unburned)', y=0.92)\n",
    "plt.show()"
   ]
  },
  {
   "cell_type": "markdown",
   "id": "0fea2eb5",
   "metadata": {},
   "source": [
    "## NDVI vs NBR Scatter\n",
    "Calculate NDVI (Normalized Difference Vegetation Index) and NBR (Normalized Burn Ratio) indices, then plot them to evaluate their ability to separate burned and unburned pixels.\n"
   ]
  },
  {
   "cell_type": "code",
   "execution_count": null,
   "id": "511dc1b7",
   "metadata": {},
   "outputs": [],
   "source": [
    "ndvi=(df['band_8']-df['band_4'])/(df['band_8']+df['band_4'])\n",
    "nbr=(df['band_9']-df['band_12'])/(df['band_9']+df['band_12'])\n",
    "plt.scatter(ndvi, nbr, c=df['label'], cmap=cmap, alpha=0.6, s=10, edgecolors='none')"
   ]
  },
  {
   "cell_type": "markdown",
   "id": "bd43c890",
   "metadata": {},
   "source": [
    "# NDVI and NBR Distributions\n",
    "Plot histograms of NDVI and NBR values separately for burned and unburned classes to visualize statistical separation.\n"
   ]
  },
  {
   "cell_type": "code",
   "execution_count": null,
   "id": "7b5a26ed",
   "metadata": {},
   "outputs": [],
   "source": [
    "ndvi = np.clip(ndvi, -1, 1)\n",
    "nbr = np.clip(nbr, -1, 1)\n",
    "labels=df['label']\n",
    "\n",
    "ndvi_burned = ndvi[labels == 1]\n",
    "ndvi_unburned = ndvi[labels == 0]\n",
    "nbr_burned = nbr[labels == 1]\n",
    "nbr_unburned = nbr[labels == 0]"
   ]
  },
  {
   "cell_type": "code",
   "execution_count": null,
   "id": "ef8f7cfc",
   "metadata": {},
   "outputs": [],
   "source": [
    "fig, axs = plt.subplots(1, 2, figsize=(14, 6))\n",
    "\n",
    "bins = 50\n",
    "\n",
    "axs[0].hist(ndvi_unburned, bins=bins, alpha=0.6, color='green', label='Unburned', density=True)\n",
    "axs[0].hist(ndvi_burned, bins=bins, alpha=0.6, color='red', label='Burned', density=True)\n",
    "axs[0].set_title('NDVI Distribution by Burn Status')\n",
    "axs[0].set_xlabel('NDVI')\n",
    "axs[0].set_ylabel('Density')\n",
    "axs[0].legend()\n",
    "axs[0].grid(True)\n",
    "\n",
    "axs[1].hist(nbr_unburned, bins=bins, alpha=0.6, color='green', label='Unburned', density=True)\n",
    "axs[1].hist(nbr_burned, bins=bins, alpha=0.6, color='red', label='Burned', density=True)\n",
    "axs[1].set_title('NBR Distribution by Burn Status')\n",
    "axs[1].set_xlabel('NBR')\n",
    "axs[1].set_ylabel('Density')\n",
    "axs[1].legend()\n",
    "axs[1].grid(True)\n",
    "\n",
    "plt.suptitle('Distributions of NDVI and NBR for Burned vs Unburned Pixels', fontsize=16)\n",
    "plt.tight_layout(rect=[0, 0, 1, 0.95])\n",
    "plt.show()"
   ]
  },
  {
   "cell_type": "markdown",
   "id": "b5449e24",
   "metadata": {},
   "source": [
    "# Create Dataset For classification"
   ]
  },
  {
   "cell_type": "markdown",
   "id": "dc1adf80",
   "metadata": {},
   "source": [
    "## Reload and Clean Dataset\n",
    "- Reload pixel data.\n",
    "- Remove rows with any negative values to clean noise or invalid pixels.\n"
   ]
  },
  {
   "cell_type": "code",
   "execution_count": null,
   "id": "2c775d98",
   "metadata": {},
   "outputs": [],
   "source": [
    "import pandas as pd\n",
    "\n",
    "df = pd.read_csv(base_dir+\"DATA/pixel_dataset.csv\")\n",
    "df = df[(df >= 0).all(axis=1)]\n",
    " \n",
    "df.describe()"
   ]
  },
  {
   "cell_type": "markdown",
   "id": "4f96b71c",
   "metadata": {},
   "source": [
    "## Prepare Train/Test Sets\n",
    "- Split data into features (`X`) and labels (`y`).\n",
    "- Apply stratified train/test split.\n",
    "- Normalize features using `StandardScaler` to prepare for model training.\n"
   ]
  },
  {
   "cell_type": "code",
   "execution_count": null,
   "id": "94a39cf9",
   "metadata": {},
   "outputs": [],
   "source": [
    "from sklearn.model_selection import train_test_split\n",
    "from sklearn.preprocessing import StandardScaler\n",
    "\n",
    "X = df.drop(\"label\", axis=1).values\n",
    "y = df[\"label\"].values\n",
    "\n",
    "X_train, X_test, y_train, y_test = train_test_split(\n",
    "    X, y, test_size=0.2, stratify=y, random_state=42\n",
    ")\n",
    "\n",
    "scaler = StandardScaler()\n",
    "X_train = scaler.fit_transform(X_train)\n",
    "X_test = scaler.transform(X_test)\n",
    "\n",
    "print(\"✅ Data loaded and split:\")\n",
    "print(f\"  Train shape: {X_train.shape}\")\n",
    "print(f\"  Test shape: {X_test.shape}\")\n"
   ]
  },
  {
   "cell_type": "markdown",
   "id": "ff740454",
   "metadata": {},
   "source": [
    "## Logistic Regression"
   ]
  },
  {
   "cell_type": "markdown",
   "id": "f62f7ea1",
   "metadata": {},
   "source": [
    "Evaluate a baseline linear classifier for binary classification of burned vs. unburned pixels.\n",
    "\n",
    "Train a logistic regression model on the training set.\n"
   ]
  },
  {
   "cell_type": "code",
   "execution_count": null,
   "id": "814d63fc",
   "metadata": {},
   "outputs": [],
   "source": [
    "from sklearn.linear_model import LogisticRegression\n",
    "from sklearn.metrics import classification_report, confusion_matrix, accuracy_score\n",
    "\n",
    "lr = LogisticRegression(max_iter=1000, random_state=42)\n",
    "lr.fit(X_train, y_train)\n",
    "\n",
    "y_pred = lr.predict(X_test)"
   ]
  },
  {
   "cell_type": "markdown",
   "id": "0fb16e7b",
   "metadata": {},
   "source": [
    "Output evaluation metrics."
   ]
  },
  {
   "cell_type": "code",
   "execution_count": null,
   "id": "5e81ecdc",
   "metadata": {},
   "outputs": [],
   "source": [
    "print(\"Logistic Regression Evaluation:\")\n",
    "print(\"Accuracy:\", accuracy_score(y_test, y_pred))\n",
    "print(\"\\nClassification Report:\\n\", classification_report(y_test, y_pred))\n",
    "print(\"Confusion Matrix:\\n\", confusion_matrix(y_test, y_pred))"
   ]
  },
  {
   "cell_type": "markdown",
   "id": "c9dba6ef",
   "metadata": {},
   "source": [
    "# Multiple Classification Models\n",
    "Let's test some other popular classifiers for comparison:\n",
    "- Random Forest\n",
    "- Decision Tree\n",
    "- K-Nearest Neighbors\n",
    "- Naive Bayes"
   ]
  },
  {
   "cell_type": "code",
   "execution_count": null,
   "id": "37992b26",
   "metadata": {},
   "outputs": [],
   "source": [
    "from sklearn.ensemble import RandomForestClassifier, GradientBoostingClassifier\n",
    "from sklearn.svm import SVC\n",
    "from sklearn.linear_model import LogisticRegression\n",
    "from sklearn.neighbors import KNeighborsClassifier\n",
    "from sklearn.naive_bayes import GaussianNB\n",
    "from sklearn.neural_network import MLPClassifier\n",
    "from sklearn.tree import DecisionTreeClassifier\n",
    "\n",
    "models = {\n",
    "    \"Random Forest\": RandomForestClassifier(n_estimators=10, random_state=42),\n",
    "    \"Decision Tree Classifier\" : DecisionTreeClassifier( random_state=42),\n",
    "     \"K-Nearest Neighbors\": KNeighborsClassifier(n_neighbors=3),\n",
    "     \"Naive Bayes\": GaussianNB(),\n",
    " }\n"
   ]
  },
  {
   "cell_type": "markdown",
   "id": "d3e4acc7",
   "metadata": {},
   "source": [
    "### Train & Evaluate Models\n",
    "Fit each model on the training data and prints accuracy on the test set.\n",
    "(*Classification report optionally included but commented out.*)\n"
   ]
  },
  {
   "cell_type": "code",
   "execution_count": null,
   "id": "e5e770bd",
   "metadata": {},
   "outputs": [],
   "source": [
    "from sklearn.metrics import classification_report\n",
    "\n",
    "for name, model in models.items():\n",
    "    print(f\"\\nTraining and evaluating: {name}\")\n",
    "    model.fit(X_train, y_train)\n",
    "    y_pred = model.predict(X_test)\n",
    "    print(\"Accuracy:\", accuracy_score(y_test, y_pred))\n",
    "    #print(classification_report(y_test, y_pred))\n"
   ]
  },
  {
   "cell_type": "markdown",
   "id": "7d422288",
   "metadata": {},
   "source": [
    "### Hyperparameter Tuning with GridSearchCV\n",
    "- Define a parameter grid for `RandomForestClassifier`.\n",
    "- Run 5-fold cross-validation to find the best combination.\n",
    "- Evaluate the best model on the test set.\n"
   ]
  },
  {
   "cell_type": "code",
   "execution_count": null,
   "id": "ece08849",
   "metadata": {},
   "outputs": [],
   "source": [
    "from sklearn.model_selection import GridSearchCV\n",
    "\n",
    "rf = RandomForestClassifier(random_state=42)\n",
    "param_grid = {\n",
    "    'n_estimators': [10, 80],\n",
    "    'max_depth': [None, 10, 20],\n",
    "    'min_samples_split': [2, 5],\n",
    "}\n",
    "\n",
    "grid_search = GridSearchCV(\n",
    "    estimator=rf,\n",
    "    param_grid=param_grid,\n",
    "    cv=5,\n",
    "    scoring='accuracy',\n",
    "    n_jobs=-1,\n",
    "    verbose=2\n",
    ")\n",
    "\n",
    "grid_search.fit(X_train, y_train)\n",
    "\n",
    "print(\"Best RF params:\", grid_search.best_params_)\n",
    "print(\"Best RF CV accuracy:\", grid_search.best_score_)\n",
    "\n",
    "best_rf = grid_search.best_estimator_\n",
    "y_pred_rf = best_rf.predict(X_test)\n",
    "print(\"Accuracy:\", accuracy_score(y_test, y_pred))\n",
    "print(classification_report(y_test, y_pred_rf))\n"
   ]
  },
  {
   "cell_type": "markdown",
   "id": "8cf0820d",
   "metadata": {},
   "source": [
    "# Stacking Clasifier\n",
    "\n",
    "Stack different types of popular estimators to combine their performance."
   ]
  },
  {
   "cell_type": "code",
   "execution_count": null,
   "id": "956d59f5",
   "metadata": {},
   "outputs": [],
   "source": [
    "from sklearn.ensemble import StackingClassifier\n",
    "from sklearn.linear_model import LogisticRegression\n",
    "from sklearn.svm import LinearSVC\n",
    "\n",
    "estimators = [\n",
    "    ('rf', RandomForestClassifier(n_estimators=100, random_state=42)),\n",
    "    ('svm', LinearSVC(    random_state=42)),\n",
    "    ('knn', KNeighborsClassifier(n_neighbors=5)),\n",
    "]\n",
    "\n",
    "meta_clf = LogisticRegression(max_iter=1000, random_state=42)\n",
    "\n",
    "stacking_clf = StackingClassifier(\n",
    "    estimators=estimators,\n",
    "    final_estimator=meta_clf,\n",
    "    cv=5,\n",
    "    n_jobs=-1,\n",
    "    passthrough=True\n",
    ")\n",
    "\n",
    "stacking_clf.fit(X_train, y_train)\n",
    "\n",
    "y_pred_stack = stacking_clf.predict(X_test)\n",
    "print(\"Stacking Classifier Performance:\\n\", classification_report(y_test, y_pred_stack))"
   ]
  },
  {
   "cell_type": "markdown",
   "id": "1376c292",
   "metadata": {},
   "source": [
    "### Use Stacking Classifier Model to Predict on New Image\n",
    "Describes application of trained model to classify all pixels in a new `.nc` image file."
   ]
  },
  {
   "cell_type": "code",
   "execution_count": null,
   "id": "0fc40c15",
   "metadata": {},
   "outputs": [],
   "source": [
    "import xarray as xr\n",
    "import numpy as np\n",
    "import rasterio\n",
    "from rasterio.transform import from_origin\n",
    "import joblib\n",
    "import os\n",
    "\n",
    "def classify_nc_to_tiff(nc_file_path, model, scaler, output_tiff_path):\n",
    "    ds = xr.open_dataset(nc_file_path)\n",
    "    \n",
    "    desired_bands = ['B01', 'B02', 'B03', 'B04', 'B05', 'B06',\n",
    "                     'B07', 'B08', 'B8A', 'B09', 'B11', 'B12']\n",
    "    ds = ds[[band for band in desired_bands if band in ds.data_vars]]\n",
    "    \n",
    "    if \"t\" in ds.dims:\n",
    "        ds = ds.isel(t=0)\n",
    "    \n",
    "    da = ds.to_array().transpose(\"y\", \"x\", \"variable\")\n",
    "    \n",
    "    height, width = da.shape[0], da.shape[1]\n",
    "    coords = ds.coords\n",
    "    \n",
    "    pixels = da.values.reshape(-1, da.shape[2])\n",
    "    nan_mask = np.isnan(pixels).any(axis=1)\n",
    "\n",
    "    valid_pixels = pixels[~nan_mask]\n",
    "    valid_pixels_scaled = scaler.transform(valid_pixels)\n",
    "\n",
    "    predictions = model.predict(valid_pixels_scaled)\n",
    "\n",
    "    full_pred = np.full((pixels.shape[0],), fill_value=-1, dtype=np.int16)\n",
    "    full_pred[~nan_mask] = predictions\n",
    "    classification_map = full_pred.reshape((height, width))\n",
    "\n",
    "    transform = from_origin(\n",
    "        float(ds.x[0]), float(ds.y[0]), \n",
    "        float(ds.x[1] - ds.x[0]), \n",
    "        float(ds.y[0] - ds.y[1])\n",
    "    )\n",
    "    \n",
    "    with rasterio.open(\n",
    "        output_tiff_path,\n",
    "        'w',\n",
    "        driver='GTiff',\n",
    "        height=height,\n",
    "        width=width,\n",
    "        count=1,\n",
    "        dtype=rasterio.int16,\n",
    "        crs=ds.rio.crs if hasattr(ds, \"rio\") else \"EPSG:4326\",\n",
    "        transform=transform,\n",
    "    ) as dst:\n",
    "        dst.write(classification_map, 1)\n",
    "\n",
    "    print(f\"✅ Saved classification map to: {output_tiff_path}\")\n"
   ]
  },
  {
   "cell_type": "code",
   "execution_count": null,
   "id": "746abfc6",
   "metadata": {},
   "outputs": [],
   "source": [
    "classify_nc_to_tiff(base_dir+\"datacubes_2024/fire_224248_after.nc\", stacking_clf, scaler, base_dir+\"classified_map.tif\")"
   ]
  },
  {
   "cell_type": "code",
   "execution_count": null,
   "id": "c401a453",
   "metadata": {},
   "outputs": [],
   "source": [
    "classify_nc_to_tiff(base_dir+\"datacubes_2024/fire_226116_before.nc\", stacking_clf, scaler, base_dir+\"classified_map_bef.tif\")"
   ]
  },
  {
   "cell_type": "markdown",
   "id": "9dc2164e",
   "metadata": {},
   "source": [
    "Use the trained stacking classifier to predict land cover (burned/unburned) from a new `.nc` file and save the result as a `.tif` image.\n"
   ]
  },
  {
   "cell_type": "code",
   "execution_count": null,
   "id": "05383f4a",
   "metadata": {},
   "outputs": [],
   "source": [
    "import rasterio\n",
    "import matplotlib.pyplot as plt\n",
    "with rasterio.open(base_dir+\"classified_map_bef.tif\") as src:\n",
    "    image = src.read(1)  # Read the first band\n",
    "    plt.imshow(image, cmap='viridis')\n",
    "    plt.title(\"Predicted Regression Output\")\n",
    "    plt.colorbar(label=\"Predicted Value\")\n",
    "    plt.axis('off')\n",
    "    plt.show()"
   ]
  },
  {
   "cell_type": "markdown",
   "id": "d0c046df",
   "metadata": {},
   "source": [
    "<h2>Lazy Clasifier</h2>"
   ]
  },
  {
   "cell_type": "code",
   "execution_count": null,
   "id": "07573e0f",
   "metadata": {},
   "outputs": [],
   "source": [
    "'''\n",
    "#%pip install lazypredict\n",
    "\n",
    "from lazypredict.Supervised import LazyClassifier\n",
    "\n",
    "# Initialize LazyClassifier\n",
    "# Consider reducing predictions per model and setting ignore_warnings=True\n",
    "# for faster execution on potentially smaller datasets\n",
    "lazy_clf = LazyClassifier(verbose=0, ignore_warnings=False, custom_metric=None)\n",
    "\n",
    "# Fit the models\n",
    "models, predictions = lazy_clf.fit(X_train_scaled, X_test_scaled, y_train, y_test)\n",
    "\n",
    "print(\"\\n--- LazyClassifier Results ---\")\n",
    "models\n",
    "'''"
   ]
  }
 ],
 "metadata": {
  "kernelspec": {
   "display_name": ".venv",
   "language": "python",
   "name": "python3"
  },
  "language_info": {
   "codemirror_mode": {
    "name": "ipython",
    "version": 3
   },
   "file_extension": ".py",
   "mimetype": "text/x-python",
   "name": "python",
   "nbconvert_exporter": "python",
   "pygments_lexer": "ipython3",
   "version": "3.12.4"
  }
 },
 "nbformat": 4,
 "nbformat_minor": 5
}
