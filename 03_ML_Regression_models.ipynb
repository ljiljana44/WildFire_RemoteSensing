{
 "cells": [
  {
   "cell_type": "markdown",
   "id": "f066dffc",
   "metadata": {},
   "source": [
    "### PREREQUISITES - Set base_dir"
   ]
  },
  {
   "cell_type": "code",
   "execution_count": null,
   "id": "00cecf54",
   "metadata": {},
   "outputs": [],
   "source": [
    "import os\n",
    "import sys\n",
    "\n",
    "# Check if running in Google Colab\n",
    "if 'google.colab' in sys.modules:\n",
    "    from google.colab import drive\n",
    "    drive.mount('/content/drive')\n",
    "    base_dir = \"/content/drive/MyDrive/WildFire_RemoteSensing_workshop/WildFire_RemoteSensing/\"\n",
    "    print(f\"📂 Running in Colab, base_dir set to: {base_dir}\")\n",
    "else:\n",
    "    base_dir = \"\"  # Adjust as needed\n",
    "    print(f\"🖥️ Running locally, base_dir set to: {base_dir}\")\n"
   ]
  },
  {
   "cell_type": "markdown",
   "id": "f3471030",
   "metadata": {},
   "source": [
    "You should have most of the dependencies already, except for:"
   ]
  },
  {
   "cell_type": "code",
   "execution_count": null,
   "id": "a3632461",
   "metadata": {},
   "outputs": [],
   "source": [
    "!pip install tensorflow"
   ]
  },
  {
   "cell_type": "markdown",
   "id": "a1c9744e",
   "metadata": {},
   "source": [
    "# Import libraries & Define functions\n",
    "\n",
    "- Import necessary libraries.\n",
    "- Define steps similar to the process in the previous lesson, 02_ML_classification_models.\n",
    "  - `extract_pixels_and_labels()`: extracts pixel-level features and assigns labels (0 = \"before fire\", 1 = \"after fire\").\n",
    "  - `build_dataset()`: loops through files, extracts features, and stacks them into `X` and `y`.\n",
    "  - `save_dataset_to_csv()`: saves the resulting dataset as a CSV for reuse."
   ]
  },
  {
   "cell_type": "code",
   "execution_count": null,
   "id": "0b5861bd",
   "metadata": {},
   "outputs": [],
   "source": [
    "import xarray as xr\n",
    "import numpy as np\n",
    "from tqdm import tqdm\n",
    "import geopandas as gpd\n",
    "import pandas as pd"
   ]
  },
  {
   "cell_type": "code",
   "execution_count": null,
   "id": "69b34fcb",
   "metadata": {},
   "outputs": [],
   "source": [
    "gdf = gpd.read_file(base_dir+\"effis_layer/fire_records.csv\")\n",
    "gdf"
   ]
  },
  {
   "cell_type": "code",
   "execution_count": null,
   "id": "36c7b571",
   "metadata": {},
   "outputs": [],
   "source": [
    "max_pixels_per_file=10000\n",
    "data_dir=base_dir+\"datacubes_2024\"\n",
    "def extract_pixels_and_labels(file_path, label, max_pixels):\n",
    "    \n",
    "    ds = xr.open_dataset(file_path)\n",
    "\n",
    "    desired_bands = [\n",
    "        'B01', 'B02', 'B03', 'B04', 'B05', 'B06',\n",
    "        'B07', 'B08', 'B8A', 'B09', 'B11', 'B12'\n",
    "    ]\n",
    "\n",
    "    available_bands = [\n",
    "        band for band in desired_bands\n",
    "        if band in ds.data_vars and np.issubdtype(ds[band].dtype, np.number)\n",
    "    ]\n",
    "\n",
    "    if not available_bands:\n",
    "        print(f\"⚠️ No valid bands found in {file_path}, skipping.\")\n",
    "        return np.empty((0, len(desired_bands))), np.array([])\n",
    "\n",
    "    ds = ds[available_bands]\n",
    "\n",
    "    if \"t\" in ds.dims:\n",
    "        ds = ds.isel(t=0)\n",
    "\n",
    "    da = ds.to_array().transpose(\"y\", \"x\", \"variable\")\n",
    "\n",
    "    pixels = da.values.reshape(-1, da.shape[2]).astype(np.float32, copy=False)\n",
    "    pixels = pixels[~np.isnan(pixels).any(axis=1)]\n",
    "\n",
    "    np.random.shuffle(pixels)\n",
    "    return pixels[:max_pixels], np.full(min(len(pixels), max_pixels), label)\n",
    "def build_dataset(gdf, max_pixels):\n",
    "    X, y = [], []\n",
    "    for idx,row in gdf.iterrows():\n",
    "        id = row['id']\n",
    "        file_path=data_dir+'/'+ f\"fire_{id}_before.nc\"\n",
    "        \n",
    "\n",
    "        label = row['AREA_HA']\n",
    "        pixels, labels = extract_pixels_and_labels(file_path, label, max_pixels)\n",
    "        X.append(pixels)\n",
    "        y.append(labels)\n",
    "    return np.vstack(X), np.hstack(y)\n",
    " \n",
    " \n",
    "X, y = build_dataset(gdf, max_pixels_per_file)\n",
    "df = pd.DataFrame(X, columns=[f\"band_{i+1}\" for i in range(X.shape[1])])\n",
    "df[\"label\"] = y\n",
    "df.to_csv(base_dir+'DATA/pixel_dataset_ba.csv', index=False)\n",
    "print(\"✅ Dataset saved.\")"
   ]
  },
  {
   "cell_type": "markdown",
   "id": "63414b95",
   "metadata": {},
   "source": [
    "## Load the created `csv` and use it for analysis."
   ]
  },
  {
   "cell_type": "code",
   "execution_count": null,
   "id": "53d2a89b",
   "metadata": {},
   "outputs": [],
   "source": [
    "df = pd.read_csv(base_dir+\"DATA/pixel_dataset_ba.csv\")\n",
    "df = df[(df >= 0).all(axis=1)]\n",
    "df.describe()"
   ]
  },
  {
   "cell_type": "markdown",
   "id": "c67ec73a",
   "metadata": {},
   "source": [
    "Split and scale the data."
   ]
  },
  {
   "cell_type": "code",
   "execution_count": null,
   "id": "78a049a6",
   "metadata": {},
   "outputs": [],
   "source": [
    "from sklearn.model_selection import train_test_split\n",
    "from sklearn.preprocessing import StandardScaler\n",
    "\n",
    "X = df.drop(\"label\", axis=1).values\n",
    "y = df[\"label\"].values\n",
    "\n",
    "X_train, X_test, y_train, y_test = train_test_split(\n",
    "    X, y, test_size=0.2, stratify=y, random_state=42\n",
    ")\n",
    "\n",
    "scaler = StandardScaler()\n",
    "X_train = scaler.fit_transform(X_train)\n",
    "X_test = scaler.transform(X_test)\n",
    "\n",
    "print(\"✅ Data loaded and split:\")\n",
    "print(f\"  Train shape: {X_train.shape}\")\n",
    "print(f\"  Test shape: {X_test.shape}\")\n"
   ]
  },
  {
   "cell_type": "markdown",
   "id": "a178fc93",
   "metadata": {},
   "source": [
    "### Linear Regression"
   ]
  },
  {
   "cell_type": "code",
   "execution_count": null,
   "id": "ea47f96a",
   "metadata": {},
   "outputs": [],
   "source": [
    "from sklearn.linear_model import LinearRegression\n",
    "from sklearn.metrics import mean_squared_error, mean_absolute_error, r2_score\n",
    "import matplotlib.pyplot as plt\n",
    "\n",
    "model = LinearRegression()\n",
    "model.fit(X_train, y_train)\n",
    "\n",
    "y_pred = model.predict(X_test)\n",
    "r2 = r2_score(y_test, y_pred)\n",
    "mse = mean_squared_error(y_test, y_pred)\n",
    "mae = mean_absolute_error(y_test, y_pred)\n",
    "\n",
    "print(\"-\" * 40)\n",
    "print(f\"  R² score: {r2:.4f}\")\n",
    "print(f\"  MSE:  {mse:.4f}\")\n",
    "print(f\"  MAE:  {mae:.4f}\")\n",
    " \n",
    "predictions = model.predict(X_test) \n",
    "\n",
    "plt.scatter(y_test, predictions, alpha=0.5)\n",
    "plt.xlabel(\"True Burned Area\")\n",
    "plt.ylabel(\"Predicted Burned Area\")\n",
    "plt.title(\"Prediction vs Ground Truth\")\n",
    "plt.grid(True)\n",
    "plt.show()"
   ]
  },
  {
   "cell_type": "markdown",
   "id": "eada9b20",
   "metadata": {},
   "source": [
    "### Polynomial Regression"
   ]
  },
  {
   "cell_type": "code",
   "execution_count": null,
   "id": "830af52a",
   "metadata": {},
   "outputs": [],
   "source": [
    "import pandas as pd\n",
    "from sklearn.model_selection import train_test_split\n",
    "from sklearn.preprocessing import StandardScaler, PolynomialFeatures\n",
    "from sklearn.linear_model import LinearRegression\n",
    "from sklearn.metrics import r2_score\n",
    " \n",
    "poly = PolynomialFeatures(degree=2, include_bias=False)\n",
    "X_train_poly = poly.fit_transform(X_train)\n",
    "X_test_poly = poly.transform(X_test)\n",
    "\n",
    "model = LinearRegression()\n",
    "model.fit(X_train_poly, y_train)\n",
    "\n",
    "y_pred = model.predict(X_test_poly)\n",
    "r2 = r2_score(y_test, y_pred)\n",
    "\n",
    "print(f\"Polynomial Regression R² score: {r2:.4f}\")\n",
    "plt.scatter(y_test, y_pred, alpha=0.5)\n",
    "plt.xlabel(\"True Burned Area\")\n",
    "plt.ylabel(\"Predicted Burned Area\")\n",
    "plt.title(\"Prediction vs Ground Truth\")\n",
    "plt.grid(True)\n",
    "plt.show()"
   ]
  },
  {
   "cell_type": "markdown",
   "id": "83b526db",
   "metadata": {},
   "source": [
    "### MLP Regression"
   ]
  },
  {
   "cell_type": "code",
   "execution_count": null,
   "id": "29291950",
   "metadata": {},
   "outputs": [],
   "source": [
    "from sklearn.model_selection import GridSearchCV\n",
    "from sklearn.neural_network import MLPRegressor\n",
    "from sklearn.metrics import mean_squared_error\n",
    "\n",
    "mlpr = MLPRegressor(max_iter=50, \n",
    "                    hidden_layer_sizes= tuple(100 for _ in range(3)), \n",
    "                    solver='adam',\n",
    "                    learning_rate='adaptive')\n",
    "\n",
    "mlpr.fit(X_train, y_train)\n",
    "predicted = mlpr.predict(X_test)\n",
    "parameters = mlpr.get_params()\n",
    "test_mse = mean_squared_error(y_test, predicted)\n",
    "print(parameters)\n",
    "print(test_mse)\n",
    "\n",
    "predictions = mlpr.predict(X_test) \n",
    "\n",
    "plt.scatter(y_test, predictions, alpha=0.5)\n",
    "plt.xlabel(\"True Burned Area\")\n",
    "plt.ylabel(\"Predicted Burned Area\")\n",
    "plt.title(\"Prediction vs Ground Truth\")\n",
    "plt.grid(True)\n",
    "plt.show()"
   ]
  },
  {
   "cell_type": "code",
   "execution_count": null,
   "id": "2deed286",
   "metadata": {},
   "outputs": [],
   "source": [
    "predictions = mlpr.predict(X_test) \n",
    "\n",
    "plt.scatter(y_test, predictions, alpha=0.5)\n",
    "plt.xlabel(\"True Burned Area\")\n",
    "plt.ylabel(\"Predicted Burned Area\")\n",
    "plt.title(\"Prediction vs Ground Truth\")\n",
    "plt.grid(True)\n",
    "plt.show()"
   ]
  },
  {
   "cell_type": "markdown",
   "id": "0da1eab9",
   "metadata": {},
   "source": [
    "### Neural Network Regression"
   ]
  },
  {
   "cell_type": "code",
   "execution_count": null,
   "id": "f7b21f4a",
   "metadata": {},
   "outputs": [],
   "source": [
    "import pandas as pd\n",
    "import numpy as np\n",
    "import tensorflow as tf\n",
    "from sklearn.model_selection import train_test_split\n",
    "from sklearn.preprocessing import StandardScaler\n",
    "import matplotlib.pyplot as plt\n",
    "\n",
    "\n",
    "model = tf.keras.Sequential([\n",
    "    tf.keras.layers.Input(shape=(12,)),\n",
    "    tf.keras.layers.Dense(64, activation='relu'),\n",
    "    tf.keras.layers.Dense(64, activation='relu'),\n",
    "    tf.keras.layers.Dropout(0.3),\n",
    "    tf.keras.layers.Dense(1)\n",
    "])\n",
    "\n",
    "model.compile(optimizer='adam', loss='mse', metrics=['mae'])\n",
    "\n",
    "history = model.fit(\n",
    "    X_train , y_train,\n",
    "    validation_split=0.2,\n",
    "    epochs=10,\n",
    "    batch_size=32,\n",
    "    verbose=1\n",
    ")\n",
    "\n",
    "loss, mae = model.evaluate(X_test, y_test)\n",
    "print(f\"\\n✅ Test MAE: {mae:.2f}\")\n",
    "\n",
    "plt.plot(history.history['loss'], label='Train Loss')\n",
    "plt.plot(history.history['val_loss'], label='Val Loss')\n",
    "plt.xlabel(\"Epoch\")\n",
    "plt.ylabel(\"MSE Loss\")\n",
    "plt.legend()\n",
    "plt.title(\"Training History\")\n",
    "plt.show()\n",
    "\n",
    "predictions = model.predict(X_test).flatten()\n",
    "\n",
    "plt.scatter(y_test, predictions, alpha=0.5)\n",
    "plt.xlabel(\"True Burned Area\")\n",
    "plt.ylabel(\"Predicted Burned Area\")\n",
    "plt.title(\"Prediction vs Ground Truth\")\n",
    "plt.grid(True)\n",
    "plt.show()\n"
   ]
  }
 ],
 "metadata": {
  "kernelspec": {
   "display_name": ".venv",
   "language": "python",
   "name": "python3"
  },
  "language_info": {
   "codemirror_mode": {
    "name": "ipython",
    "version": 3
   },
   "file_extension": ".py",
   "mimetype": "text/x-python",
   "name": "python",
   "nbconvert_exporter": "python",
   "pygments_lexer": "ipython3",
   "version": "3.12.4"
  }
 },
 "nbformat": 4,
 "nbformat_minor": 5
}
