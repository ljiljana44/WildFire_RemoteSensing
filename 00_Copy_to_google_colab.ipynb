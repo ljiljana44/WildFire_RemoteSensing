{
 "cells": [
  {
   "cell_type": "markdown",
   "id": "8b127371",
   "metadata": {},
   "source": [
    "Mount Google Drive, accept all"
   ]
  },
  {
   "cell_type": "code",
   "execution_count": null,
   "id": "f325485d",
   "metadata": {},
   "outputs": [],
   "source": [
    "from google.colab import drive\n",
    "drive.mount('/content/drive')"
   ]
  },
  {
   "cell_type": "markdown",
   "id": "7847c584",
   "metadata": {},
   "source": [
    "Clone reository "
   ]
  },
  {
   "cell_type": "code",
   "execution_count": null,
   "id": "fba15466",
   "metadata": {},
   "outputs": [],
   "source": [
    "# Clone the repo\n",
    "%%bash\n",
    "cd /content/drive/MyDrive/\n",
    "git clone https://github.com/ljiljana44/WildFire_RemoteSensing"
   ]
  }
 ],
 "metadata": {
  "language_info": {
   "name": "python"
  }
 },
 "nbformat": 4,
 "nbformat_minor": 5
}
